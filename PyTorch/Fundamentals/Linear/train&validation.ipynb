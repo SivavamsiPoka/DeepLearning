{
  "nbformat": 4,
  "nbformat_minor": 0,
  "metadata": {
    "colab": {
      "name": "train&validation.ipynb",
      "provenance": [],
      "collapsed_sections": []
    },
    "kernelspec": {
      "name": "python3",
      "display_name": "Python 3"
    }
  },
  "cells": [
    {
      "cell_type": "code",
      "metadata": {
        "id": "u7wwX8VBLAtx",
        "colab_type": "code",
        "colab": {}
      },
      "source": [
        "import torch \n",
        "from torch import nn ,optim\n",
        "from torch.nn import functional as F\n",
        "from torchvision import datasets, transforms\n",
        "%matplotlib inline\n",
        "import matplotlib.pyplot as plt"
      ],
      "execution_count": 3,
      "outputs": []
    },
    {
      "cell_type": "code",
      "metadata": {
        "id": "iMkddiSAMkYS",
        "colab_type": "code",
        "colab": {}
      },
      "source": [
        "#Normalizing the data and transforming to tensor\n",
        "transform = transforms.Compose([transforms.ToTensor(),\n",
        "                                transforms.Normalize((0.5,),(0.5,)),\n",
        "                                ])\n",
        "#Downloading the train data and test data\n",
        "trainset = datasets.FashionMNIST(\"~/.pytorch/F_MNIST_data/\",download =True,train=True,transform=transform)\n",
        "testset = datasets.FashionMNIST(\"~/.pytorch/F_MNIST_data/\",download=True,train=False,transform=transform)\n",
        "\n",
        "#Loading the train data and test data\n",
        "trainloader = torch.utils.data.DataLoader(trainset,batch_size=64)\n",
        "testloader = torch.utils.data.DataLoader(testset,batch_size=64)"
      ],
      "execution_count": 4,
      "outputs": []
    },
    {
      "cell_type": "code",
      "metadata": {
        "id": "PueR7-d5OsDT",
        "colab_type": "code",
        "colab": {}
      },
      "source": [
        "#feed forward network\n",
        "class Classifier(nn.Module):\n",
        "  def __init__(self):\n",
        "    super().__init__() # it track architecture by nn.Module class\n",
        "    self.fc1 = nn.Linear(in_features=784,out_features=256)\n",
        "    self.fc2 = nn.Linear(in_features=256,out_features=128)\n",
        "    self.fc3 = nn.Linear(in_features=128,out_features=64)\n",
        "    self.fc4 = nn.Linear(in_features=64,out_features=10)\n",
        "  def forward(self,x):\n",
        "    x = x.view(x.shape[0],-1) # flattening the input\n",
        "    x = F.relu(self.fc1(x))\n",
        "    x = F.relu(self.fc2(x))\n",
        "    x = F.relu(self.fc3(x))\n",
        "    x = F.log_softmax(self.fc4(x),dim=1)\n",
        "    return x"
      ],
      "execution_count": 5,
      "outputs": []
    },
    {
      "cell_type": "code",
      "metadata": {
        "id": "_sUrhxFIQua1",
        "colab_type": "code",
        "colab": {
          "base_uri": "https://localhost:8080/",
          "height": 54
        },
        "outputId": "d5ed6690-5563-4198-a78d-db4229aff0a2"
      },
      "source": [
        "model = Classifier()\n",
        "images, labels = next(iter(testloader))\n",
        "print(images.shape,labels.shape)\n",
        "ps = torch.exp(model(images))\n",
        "print(ps.shape)"
      ],
      "execution_count": 6,
      "outputs": [
        {
          "output_type": "stream",
          "text": [
            "torch.Size([64, 1, 28, 28]) torch.Size([64])\n",
            "torch.Size([64, 10])\n"
          ],
          "name": "stdout"
        }
      ]
    },
    {
      "cell_type": "code",
      "metadata": {
        "id": "_xHzVY4URNGv",
        "colab_type": "code",
        "colab": {
          "base_uri": "https://localhost:8080/",
          "height": 199
        },
        "outputId": "02ffa4a4-5ffd-484d-a1b0-276944ee19d1"
      },
      "source": [
        "top_p, top_class = ps.topk(k=1,dim=1)\n",
        "print(top_class[:10]) # index position of highest value"
      ],
      "execution_count": 7,
      "outputs": [
        {
          "output_type": "stream",
          "text": [
            "tensor([[9],\n",
            "        [9],\n",
            "        [9],\n",
            "        [9],\n",
            "        [9],\n",
            "        [9],\n",
            "        [9],\n",
            "        [9],\n",
            "        [9],\n",
            "        [9]])\n"
          ],
          "name": "stdout"
        }
      ]
    },
    {
      "cell_type": "code",
      "metadata": {
        "id": "RnCKY1PBSFLK",
        "colab_type": "code",
        "colab": {
          "base_uri": "https://localhost:8080/",
          "height": 199
        },
        "outputId": "43c8bfb0-c56d-437f-f4ee-c6b5bb72ea8d"
      },
      "source": [
        "print(top_p[:10])# highest value"
      ],
      "execution_count": 8,
      "outputs": [
        {
          "output_type": "stream",
          "text": [
            "tensor([[0.1123],\n",
            "        [0.1099],\n",
            "        [0.1088],\n",
            "        [0.1108],\n",
            "        [0.1096],\n",
            "        [0.1086],\n",
            "        [0.1107],\n",
            "        [0.1099],\n",
            "        [0.1104],\n",
            "        [0.1116]], grad_fn=<SliceBackward>)\n"
          ],
          "name": "stdout"
        }
      ]
    },
    {
      "cell_type": "code",
      "metadata": {
        "id": "3xxphuyNSLCl",
        "colab_type": "code",
        "colab": {
          "base_uri": "https://localhost:8080/",
          "height": 381
        },
        "outputId": "3b9eacbb-7a3e-4b74-86ec-94c70c9c6884"
      },
      "source": [
        "print(ps[:10])"
      ],
      "execution_count": 9,
      "outputs": [
        {
          "output_type": "stream",
          "text": [
            "tensor([[0.0922, 0.0967, 0.1060, 0.0989, 0.0970, 0.1026, 0.0942, 0.1050, 0.0949,\n",
            "         0.1123],\n",
            "        [0.0933, 0.0931, 0.1058, 0.1004, 0.0958, 0.1055, 0.0937, 0.1052, 0.0972,\n",
            "         0.1099],\n",
            "        [0.0944, 0.0960, 0.1070, 0.0996, 0.0980, 0.1063, 0.0931, 0.1025, 0.0943,\n",
            "         0.1088],\n",
            "        [0.0960, 0.0953, 0.1056, 0.1008, 0.0977, 0.1034, 0.0917, 0.1049, 0.0938,\n",
            "         0.1108],\n",
            "        [0.0930, 0.0937, 0.1050, 0.0993, 0.0964, 0.1068, 0.0952, 0.1064, 0.0946,\n",
            "         0.1096],\n",
            "        [0.0939, 0.0947, 0.1041, 0.1007, 0.0983, 0.1056, 0.0940, 0.1058, 0.0943,\n",
            "         0.1086],\n",
            "        [0.0940, 0.0942, 0.1031, 0.1003, 0.0978, 0.1016, 0.0963, 0.1079, 0.0942,\n",
            "         0.1107],\n",
            "        [0.0939, 0.0959, 0.1031, 0.1008, 0.0965, 0.1050, 0.0936, 0.1066, 0.0949,\n",
            "         0.1099],\n",
            "        [0.0925, 0.0930, 0.1030, 0.1025, 0.0978, 0.1027, 0.0958, 0.1088, 0.0936,\n",
            "         0.1104],\n",
            "        [0.0931, 0.0962, 0.1045, 0.1011, 0.0968, 0.1033, 0.0943, 0.1053, 0.0938,\n",
            "         0.1116]], grad_fn=<SliceBackward>)\n"
          ],
          "name": "stdout"
        }
      ]
    },
    {
      "cell_type": "code",
      "metadata": {
        "id": "gBovcfc8SQJL",
        "colab_type": "code",
        "colab": {
          "base_uri": "https://localhost:8080/",
          "height": 35
        },
        "outputId": "ad5a6fc0-cce3-4d34-efa4-319b5c5a8c65"
      },
      "source": [
        "print(top_class.shape,labels.shape) # so we need to convert the dimension 1d to 2d as top_class dimension for validating"
      ],
      "execution_count": 10,
      "outputs": [
        {
          "output_type": "stream",
          "text": [
            "torch.Size([64, 1]) torch.Size([64])\n"
          ],
          "name": "stdout"
        }
      ]
    },
    {
      "cell_type": "code",
      "metadata": {
        "id": "JO2ioM79TLTc",
        "colab_type": "code",
        "colab": {
          "base_uri": "https://localhost:8080/",
          "height": 35
        },
        "outputId": "3ff706da-ed99-472f-dfdc-98b9bceb0b1a"
      },
      "source": [
        "labels.view(*top_class.shape).shape"
      ],
      "execution_count": 12,
      "outputs": [
        {
          "output_type": "execute_result",
          "data": {
            "text/plain": [
              "torch.Size([64, 1])"
            ]
          },
          "metadata": {
            "tags": []
          },
          "execution_count": 12
        }
      ]
    },
    {
      "cell_type": "code",
      "metadata": {
        "id": "BWU2rsZXTm3e",
        "colab_type": "code",
        "colab": {
          "base_uri": "https://localhost:8080/",
          "height": 199
        },
        "outputId": "5828ef1b-85cf-4d56-d39d-eb00ea4c7349"
      },
      "source": [
        "equals = top_class == labels.view(*top_class.shape)\n",
        "equals[:10]"
      ],
      "execution_count": 15,
      "outputs": [
        {
          "output_type": "execute_result",
          "data": {
            "text/plain": [
              "tensor([[ True],\n",
              "        [False],\n",
              "        [False],\n",
              "        [False],\n",
              "        [False],\n",
              "        [False],\n",
              "        [False],\n",
              "        [False],\n",
              "        [False],\n",
              "        [False]])"
            ]
          },
          "metadata": {
            "tags": []
          },
          "execution_count": 15
        }
      ]
    },
    {
      "cell_type": "code",
      "metadata": {
        "id": "xZOEXi0nUNqO",
        "colab_type": "code",
        "colab": {
          "base_uri": "https://localhost:8080/",
          "height": 189
        },
        "outputId": "23cac66e-a365-4474-edea-c675627f88e5"
      },
      "source": [
        "accuracy = torch.mean(equals)\n",
        "accuracy # beacuse true or false are 0,1 as bytetensor so we need to convert in float "
      ],
      "execution_count": 16,
      "outputs": [
        {
          "output_type": "error",
          "ename": "RuntimeError",
          "evalue": "ignored",
          "traceback": [
            "\u001b[0;31m---------------------------------------------------------------------------\u001b[0m",
            "\u001b[0;31mRuntimeError\u001b[0m                              Traceback (most recent call last)",
            "\u001b[0;32m<ipython-input-16-ec2aa0b4635e>\u001b[0m in \u001b[0;36m<module>\u001b[0;34m()\u001b[0m\n\u001b[0;32m----> 1\u001b[0;31m \u001b[0maccuracy\u001b[0m \u001b[0;34m=\u001b[0m \u001b[0mtorch\u001b[0m\u001b[0;34m.\u001b[0m\u001b[0mmean\u001b[0m\u001b[0;34m(\u001b[0m\u001b[0mequals\u001b[0m\u001b[0;34m)\u001b[0m\u001b[0;34m\u001b[0m\u001b[0;34m\u001b[0m\u001b[0m\n\u001b[0m\u001b[1;32m      2\u001b[0m \u001b[0maccuracy\u001b[0m\u001b[0;34m\u001b[0m\u001b[0;34m\u001b[0m\u001b[0m\n",
            "\u001b[0;31mRuntimeError\u001b[0m: Can only calculate the mean of floating types. Got Bool instead."
          ]
        }
      ]
    },
    {
      "cell_type": "code",
      "metadata": {
        "id": "zagar3lKUvcs",
        "colab_type": "code",
        "colab": {
          "base_uri": "https://localhost:8080/",
          "height": 35
        },
        "outputId": "22763bd1-e9f5-4169-eebc-a155ca5f621d"
      },
      "source": [
        "accuracy = torch.mean(equals.type(torch.FloatTensor))\n",
        "accuracy"
      ],
      "execution_count": 19,
      "outputs": [
        {
          "output_type": "execute_result",
          "data": {
            "text/plain": [
              "tensor(0.0625)"
            ]
          },
          "metadata": {
            "tags": []
          },
          "execution_count": 19
        }
      ]
    },
    {
      "cell_type": "code",
      "metadata": {
        "id": "AZADZsIcVJwd",
        "colab_type": "code",
        "colab": {
          "base_uri": "https://localhost:8080/",
          "height": 35
        },
        "outputId": "3b237bc1-8370-49b0-c5cc-a3b1628db7b5"
      },
      "source": [
        "accuracy.item()"
      ],
      "execution_count": 20,
      "outputs": [
        {
          "output_type": "execute_result",
          "data": {
            "text/plain": [
              "0.0625"
            ]
          },
          "metadata": {
            "tags": []
          },
          "execution_count": 20
        }
      ]
    },
    {
      "cell_type": "code",
      "metadata": {
        "id": "_kPV_EQiVVQg",
        "colab_type": "code",
        "colab": {
          "base_uri": "https://localhost:8080/",
          "height": 35
        },
        "outputId": "d41fb604-d4d0-432b-a3da-c4456180f387"
      },
      "source": [
        "type(accuracy.item())"
      ],
      "execution_count": 21,
      "outputs": [
        {
          "output_type": "execute_result",
          "data": {
            "text/plain": [
              "float"
            ]
          },
          "metadata": {
            "tags": []
          },
          "execution_count": 21
        }
      ]
    },
    {
      "cell_type": "code",
      "metadata": {
        "id": "uE9tT6qqVbyF",
        "colab_type": "code",
        "colab": {
          "base_uri": "https://localhost:8080/",
          "height": 35
        },
        "outputId": "71984dc6-0f2a-4c60-e3dc-771d6d4e54e0"
      },
      "source": [
        "type(accuracy)"
      ],
      "execution_count": 22,
      "outputs": [
        {
          "output_type": "execute_result",
          "data": {
            "text/plain": [
              "torch.Tensor"
            ]
          },
          "metadata": {
            "tags": []
          },
          "execution_count": 22
        }
      ]
    },
    {
      "cell_type": "code",
      "metadata": {
        "id": "HVuGf27RVfNr",
        "colab_type": "code",
        "colab": {
          "base_uri": "https://localhost:8080/",
          "height": 35
        },
        "outputId": "b7ca7e24-baa2-48f8-8548-84d4cb4158ec"
      },
      "source": [
        "accuracy.item()*100"
      ],
      "execution_count": 23,
      "outputs": [
        {
          "output_type": "execute_result",
          "data": {
            "text/plain": [
              "6.25"
            ]
          },
          "metadata": {
            "tags": []
          },
          "execution_count": 23
        }
      ]
    },
    {
      "cell_type": "code",
      "metadata": {
        "id": "VFc4QHKXVlO9",
        "colab_type": "code",
        "colab": {
          "base_uri": "https://localhost:8080/",
          "height": 35
        },
        "outputId": "f3a35173-d0cb-44cf-f69d-bc753806fcc6"
      },
      "source": [
        "accuracy*100"
      ],
      "execution_count": 24,
      "outputs": [
        {
          "output_type": "execute_result",
          "data": {
            "text/plain": [
              "tensor(6.2500)"
            ]
          },
          "metadata": {
            "tags": []
          },
          "execution_count": 24
        }
      ]
    },
    {
      "cell_type": "code",
      "metadata": {
        "id": "js5NuHAHVo0R",
        "colab_type": "code",
        "colab": {}
      },
      "source": [
        "model = Classifier()\n",
        "creterion = nn.NLLLoss()\n",
        "optimizer = optim.Adam(params=model.parameters(),lr=0.003)"
      ],
      "execution_count": 25,
      "outputs": []
    },
    {
      "cell_type": "code",
      "metadata": {
        "id": "ioXo1HtZWcXP",
        "colab_type": "code",
        "colab": {
          "base_uri": "https://localhost:8080/",
          "height": 108
        },
        "outputId": "d46f58bb-47a8-44d1-fd73-ebdafe758f97"
      },
      "source": [
        "epochs = 5\n",
        "steps = 0\n",
        "train_losses,test_losses = [],[]\n",
        "for e in range(epochs):\n",
        "  running_loss = 0\n",
        "  for images,labels in trainloader:\n",
        "    optimizer.zero_grad()\n",
        "    log_ps = model(images)\n",
        "    loss = creterion(log_ps,labels)\n",
        "    loss.backward()\n",
        "    optimizer.step()\n",
        "    running_loss = running_loss + loss.item()\n",
        "  else:\n",
        "    test_loss = 0\n",
        "    accuracy = 0\n",
        "    # turning of gradients for validation, saves the memory and computation\n",
        "    with torch.no_grad():\n",
        "      for images,labels in testloader:\n",
        "        log_ps = model(images)\n",
        "        test_loss = test_loss + creterion(log_ps,labels)\n",
        "        ps = torch.exp(log_ps)\n",
        "        top_p,top_class = ps.topk(1,dim=1)\n",
        "        equals = top_class==labels.view(*top_class.shape)\n",
        "        accuracy = accuracy + torch.mean(equals.type(torch.FloatTensor))\n",
        "  train_losses.append(running_loss/len(trainloader))\n",
        "  test_losses.append(test_loss/len(testloader))\n",
        "  print(\"Epoch {}/{}...\".format(e+1,epochs),\n",
        "        \"Training Loss: {:.3f}...\".format(running_loss/len(trainloader)),\n",
        "        \"Test Loss: {:.3f}...\".format(test_loss/len(testloader)),\n",
        "        \"Test Accuracy: {:.3f}...\".format(accuracy/len(testloader)))\n"
      ],
      "execution_count": 27,
      "outputs": [
        {
          "output_type": "stream",
          "text": [
            "Epoch 1/5... Training Loss: 0.517... Test Loss: 0.526... Test Accuracy: 0.803...\n",
            "Epoch 2/5... Training Loss: 0.390... Test Loss: 0.412... Test Accuracy: 0.853...\n",
            "Epoch 3/5... Training Loss: 0.352... Test Loss: 0.407... Test Accuracy: 0.852...\n",
            "Epoch 4/5... Training Loss: 0.330... Test Loss: 0.390... Test Accuracy: 0.861...\n",
            "Epoch 5/5... Training Loss: 0.313... Test Loss: 0.383... Test Accuracy: 0.860...\n"
          ],
          "name": "stdout"
        }
      ]
    },
    {
      "cell_type": "code",
      "metadata": {
        "id": "Sh_9OaRybHSs",
        "colab_type": "code",
        "colab": {
          "base_uri": "https://localhost:8080/",
          "height": 265
        },
        "outputId": "bd05b5cc-34ae-47aa-b7f4-052c4c9ef9f6"
      },
      "source": [
        "plt.plot(train_losses,label = \"Training loss\")\n",
        "plt.plot(test_losses,label=\"Validation loss\")\n",
        "plt.legend()\n",
        "plt.show()"
      ],
      "execution_count": 29,
      "outputs": [
        {
          "output_type": "display_data",
          "data": {
            "image/png": "[encoded data removed]",
            "text/plain": [
              "<Figure size 432x288 with 1 Axes>"
            ]
          },
          "metadata": {
            "tags": [],
            "needs_background": "light"
          }
        }
      ]
    },
    {
      "cell_type": "markdown",
      "metadata": {
        "id": "_iguKvLicsL0",
        "colab_type": "text"
      },
      "source": [
        "Train and eval mode"
      ]
    },
    {
      "cell_type": "code",
      "metadata": {
        "id": "vFgZVHZbbv0g",
        "colab_type": "code",
        "colab": {}
      },
      "source": [
        "#feed forward network\n",
        "class Classifier(nn.Module):\n",
        "  def __init__(self):\n",
        "    super().__init__() # it track architecture by nn.Module class\n",
        "    self.fc1 = nn.Linear(in_features=784,out_features=256)\n",
        "    self.fc2 = nn.Linear(in_features=256,out_features=128)\n",
        "    self.fc3 = nn.Linear(in_features=128,out_features=64)\n",
        "    self.fc4 = nn.Linear(in_features=64,out_features=10)\n",
        "    self.dropout = nn.Dropout(0.2)\n",
        "  def forward(self,x):\n",
        "    x = x.view(x.shape[0],-1) # flattening the input\n",
        "    x = self.dropout(F.relu(self.fc1(x)))\n",
        "    x = self.dropout(F.relu(self.fc2(x)))\n",
        "    x = self.dropout(F.relu(self.fc3(x)))\n",
        "    x = F.log_softmax(self.fc4(x),dim=1) # output so no dropout here\n",
        "    return x"
      ],
      "execution_count": 30,
      "outputs": []
    },
    {
      "cell_type": "code",
      "metadata": {
        "id": "XUtuL8B4dZqC",
        "colab_type": "code",
        "colab": {
          "base_uri": "https://localhost:8080/",
          "height": 108
        },
        "outputId": "a8f74625-1ecc-4f0b-860a-48ca8023bb1a"
      },
      "source": [
        "epochs = 5\n",
        "steps = 0\n",
        "train_losses,test_losses = [],[]\n",
        "for e in range(epochs):\n",
        "  running_loss = 0\n",
        "  for images,labels in trainloader:\n",
        "    optimizer.zero_grad()\n",
        "    log_ps = model(images)\n",
        "    loss = creterion(log_ps,labels)\n",
        "    loss.backward()\n",
        "    optimizer.step()\n",
        "    running_loss = running_loss + loss.item()\n",
        "  else:\n",
        "    test_loss = 0\n",
        "    accuracy = 0\n",
        "    # turning of gradients for validation, saves the memory and computation\n",
        "    with torch.no_grad():\n",
        "      model.eval() # it deactivate the dropout\n",
        "      for images,labels in testloader:\n",
        "        log_ps = model(images)\n",
        "        test_loss = test_loss + creterion(log_ps,labels)\n",
        "        ps = torch.exp(log_ps)\n",
        "        top_p,top_class = ps.topk(1,dim=1)\n",
        "        equals = top_class==labels.view(*top_class.shape)\n",
        "        accuracy = accuracy + torch.mean(equals.type(torch.FloatTensor))\n",
        "  model.train() # It will start training mode such dropout are activated\n",
        "  train_losses.append(running_loss/len(trainloader))\n",
        "  test_losses.append(test_loss/len(testloader))\n",
        "  print(\"Epoch {}/{}...\".format(e+1,epochs),\n",
        "        \"Training Loss: {:.3f}...\".format(running_loss/len(trainloader)),\n",
        "        \"Test Loss: {:.3f}...\".format(test_loss/len(testloader)),\n",
        "        \"Test Accuracy: {:.3f}...\".format(accuracy/len(testloader)))\n"
      ],
      "execution_count": 31,
      "outputs": [
        {
          "output_type": "stream",
          "text": [
            "Epoch 1/5... Training Loss: 0.301... Test Loss: 0.414... Test Accuracy: 0.859...\n",
            "Epoch 2/5... Training Loss: 0.289... Test Loss: 0.389... Test Accuracy: 0.864...\n",
            "Epoch 3/5... Training Loss: 0.279... Test Loss: 0.384... Test Accuracy: 0.868...\n",
            "Epoch 4/5... Training Loss: 0.275... Test Loss: 0.399... Test Accuracy: 0.867...\n",
            "Epoch 5/5... Training Loss: 0.263... Test Loss: 0.399... Test Accuracy: 0.872...\n"
          ],
          "name": "stdout"
        }
      ]
    },
    {
      "cell_type": "code",
      "metadata": {
        "id": "F8-jFB4od5fU",
        "colab_type": "code",
        "colab": {
          "base_uri": "https://localhost:8080/",
          "height": 267
        },
        "outputId": "a254b4bf-f446-4589-c5cd-fa00c9b63477"
      },
      "source": [
        "plt.plot(train_losses,label = \"Training loss\")\n",
        "plt.plot(test_losses,label=\"Validation loss\")\n",
        "plt.legend()\n",
        "plt.show()"
      ],
      "execution_count": 32,
      "outputs": [
        {
          "output_type": "display_data",
          "data": {
            "image/png": "[encoded data removed]",
            "text/plain": [
              "<Figure size 432x288 with 1 Axes>"
            ]
          },
          "metadata": {
            "tags": [],
            "needs_background": "light"
          }
        }
      ]
    },
    {
      "cell_type": "code",
      "metadata": {
        "id": "ZbpzbO9Lgn5x",
        "colab_type": "code",
        "colab": {}
      },
      "source": [
        ""
      ],
      "execution_count": null,
      "outputs": []
    },
    {
      "cell_type": "markdown",
      "metadata": {
        "id": "w7Eb5Ggdgo3b",
        "colab_type": "text"
      },
      "source": [
        "Saving and Loading models"
      ]
    },
    {
      "cell_type": "code",
      "metadata": {
        "id": "WoWpGA2neTss",
        "colab_type": "code",
        "colab": {
          "base_uri": "https://localhost:8080/",
          "height": 126
        },
        "outputId": "49aebcf0-6eeb-4b40-d3da-84d9452e3816"
      },
      "source": [
        "model"
      ],
      "execution_count": 35,
      "outputs": [
        {
          "output_type": "execute_result",
          "data": {
            "text/plain": [
              "Classifier(\n",
              "  (fc1): Linear(in_features=784, out_features=256, bias=True)\n",
              "  (fc2): Linear(in_features=256, out_features=128, bias=True)\n",
              "  (fc3): Linear(in_features=128, out_features=64, bias=True)\n",
              "  (fc4): Linear(in_features=64, out_features=10, bias=True)\n",
              ")"
            ]
          },
          "metadata": {
            "tags": []
          },
          "execution_count": 35
        }
      ]
    },
    {
      "cell_type": "code",
      "metadata": {
        "id": "lMIQD1AwgX8I",
        "colab_type": "code",
        "colab": {
          "base_uri": "https://localhost:8080/",
          "height": 35
        },
        "outputId": "1d7e233f-d1c3-44d3-b5f3-0de2eff8a7dd"
      },
      "source": [
        "model.state_dict().keys()"
      ],
      "execution_count": 34,
      "outputs": [
        {
          "output_type": "execute_result",
          "data": {
            "text/plain": [
              "odict_keys(['fc1.weight', 'fc1.bias', 'fc2.weight', 'fc2.bias', 'fc3.weight', 'fc3.bias', 'fc4.weight', 'fc4.bias'])"
            ]
          },
          "metadata": {
            "tags": []
          },
          "execution_count": 34
        }
      ]
    },
    {
      "cell_type": "code",
      "metadata": {
        "id": "EH6ouikUgd3h",
        "colab_type": "code",
        "colab": {}
      },
      "source": [
        "torch.save(model.state_dict(),\"checkpoint.pth\") #saving the model"
      ],
      "execution_count": 36,
      "outputs": []
    },
    {
      "cell_type": "code",
      "metadata": {
        "id": "y29X7ZNxhGGY",
        "colab_type": "code",
        "colab": {
          "base_uri": "https://localhost:8080/",
          "height": 35
        },
        "outputId": "3e7cc271-1105-4ec9-daa8-789e16776c65"
      },
      "source": [
        "ls"
      ],
      "execution_count": 37,
      "outputs": [
        {
          "output_type": "stream",
          "text": [
            "checkpoint.pth  \u001b[0m\u001b[01;34msample_data\u001b[0m/\n"
          ],
          "name": "stdout"
        }
      ]
    },
    {
      "cell_type": "code",
      "metadata": {
        "id": "p10GQV78hHWw",
        "colab_type": "code",
        "colab": {
          "base_uri": "https://localhost:8080/",
          "height": 35
        },
        "outputId": "65d2d11b-0082-4787-adf0-40c688d647e3"
      },
      "source": [
        "state_dict = torch.load(\"checkpoint.pth\") #Loading the state dict\n",
        "state_dict.keys()"
      ],
      "execution_count": 38,
      "outputs": [
        {
          "output_type": "execute_result",
          "data": {
            "text/plain": [
              "odict_keys(['fc1.weight', 'fc1.bias', 'fc2.weight', 'fc2.bias', 'fc3.weight', 'fc3.bias', 'fc4.weight', 'fc4.bias'])"
            ]
          },
          "metadata": {
            "tags": []
          },
          "execution_count": 38
        }
      ]
    },
    {
      "cell_type": "code",
      "metadata": {
        "id": "9UGqgVFahZLJ",
        "colab_type": "code",
        "colab": {
          "base_uri": "https://localhost:8080/",
          "height": 35
        },
        "outputId": "6e1940b9-2a8d-4f82-cdb2-d712f3772aeb"
      },
      "source": [
        "model.load_state_dict(state_dict) #Loading the state dict into model"
      ],
      "execution_count": 39,
      "outputs": [
        {
          "output_type": "execute_result",
          "data": {
            "text/plain": [
              "<All keys matched successfully>"
            ]
          },
          "metadata": {
            "tags": []
          },
          "execution_count": 39
        }
      ]
    },
    {
      "cell_type": "code",
      "metadata": {
        "id": "e1docbSqhxnF",
        "colab_type": "code",
        "colab": {
          "base_uri": "https://localhost:8080/",
          "height": 126
        },
        "outputId": "3b82b6fb-08de-4f5d-8ce4-af7df9258a13"
      },
      "source": [
        "model"
      ],
      "execution_count": 40,
      "outputs": [
        {
          "output_type": "execute_result",
          "data": {
            "text/plain": [
              "Classifier(\n",
              "  (fc1): Linear(in_features=784, out_features=256, bias=True)\n",
              "  (fc2): Linear(in_features=256, out_features=128, bias=True)\n",
              "  (fc3): Linear(in_features=128, out_features=64, bias=True)\n",
              "  (fc4): Linear(in_features=64, out_features=10, bias=True)\n",
              ")"
            ]
          },
          "metadata": {
            "tags": []
          },
          "execution_count": 40
        }
      ]
    },
    {
      "cell_type": "code",
      "metadata": {
        "id": "AUt1VtPPh3gO",
        "colab_type": "code",
        "colab": {
          "base_uri": "https://localhost:8080/",
          "height": 108
        },
        "outputId": "51adbbe5-bfb3-4c88-9b96-675051b574d6"
      },
      "source": [
        "epochs = 5\n",
        "steps = 0\n",
        "train_losses,test_losses = [],[]\n",
        "for e in range(epochs):\n",
        "  running_loss = 0\n",
        "  for images,labels in trainloader:\n",
        "    optimizer.zero_grad()\n",
        "    log_ps = model(images)\n",
        "    loss = creterion(log_ps,labels)\n",
        "    loss.backward()\n",
        "    optimizer.step()\n",
        "    running_loss = running_loss + loss.item()\n",
        "  else:\n",
        "    test_loss = 0\n",
        "    accuracy = 0\n",
        "    # turning of gradients for validation, saves the memory and computation\n",
        "    with torch.no_grad():\n",
        "      model.eval() # it deactivate the dropout\n",
        "      for images,labels in testloader:\n",
        "        log_ps = model(images)\n",
        "        test_loss = test_loss + creterion(log_ps,labels)\n",
        "        ps = torch.exp(log_ps)\n",
        "        top_p,top_class = ps.topk(1,dim=1)\n",
        "        equals = top_class==labels.view(*top_class.shape)\n",
        "        accuracy = accuracy + torch.mean(equals.type(torch.FloatTensor))\n",
        "  model.train() # It will start training mode such dropout are activated\n",
        "  train_losses.append(running_loss/len(trainloader))\n",
        "  test_losses.append(test_loss/len(testloader))\n",
        "  print(\"Epoch {}/{}...\".format(e+1,epochs),\n",
        "        \"Training Loss: {:.3f}...\".format(running_loss/len(trainloader)),\n",
        "        \"Test Loss: {:.3f}...\".format(test_loss/len(testloader)),\n",
        "        \"Test Accuracy: {:.3f}...\".format(accuracy/len(testloader)))\n"
      ],
      "execution_count": 41,
      "outputs": [
        {
          "output_type": "stream",
          "text": [
            "Epoch 1/5... Training Loss: 0.254... Test Loss: 0.395... Test Accuracy: 0.875...\n",
            "Epoch 2/5... Training Loss: 0.251... Test Loss: 0.408... Test Accuracy: 0.873...\n",
            "Epoch 3/5... Training Loss: 0.244... Test Loss: 0.404... Test Accuracy: 0.870...\n",
            "Epoch 4/5... Training Loss: 0.238... Test Loss: 0.426... Test Accuracy: 0.873...\n",
            "Epoch 5/5... Training Loss: 0.230... Test Loss: 0.429... Test Accuracy: 0.873...\n"
          ],
          "name": "stdout"
        }
      ]
    },
    {
      "cell_type": "code",
      "metadata": {
        "id": "wC2tfjgniVwU",
        "colab_type": "code",
        "colab": {
          "base_uri": "https://localhost:8080/",
          "height": 272
        },
        "outputId": "e57df914-f7d4-43fa-bad1-996b673abec1"
      },
      "source": [
        "class Network(nn.Module):\n",
        "  def __init__(self,input_size,output_size,hidden_layers,drop_p=0.5):\n",
        "    \"\"\"Builds a feedforward network with arbitary hiddenlayer\n",
        "       Arguments\n",
        "       ---------\n",
        "       input_size: defining\n",
        "       output_size: defination\n",
        "       hidden_layer: defination\n",
        "    \"\"\"\n",
        "    super().__init__()\n",
        "    self.hidden_layers = nn.ModuleList([nn.Linear(input_size,hidden_layers[0])])\n",
        "    print(self.hidden_layers)\n",
        "    layer_sizes = zip(hidden_layers[:-1],hidden_layers[1:])\n",
        "    print(hidden_layers[:-1],hidden_layers[1:])\n",
        "    self.hidden_layers.extend([nn.Linear(h1,h2) for h1,h2 in layer_sizes])\n",
        "    self.output  = nn.Linear(hidden_layers[-1],output_size)\n",
        "    self.dropout = nn.Dropout(p=drop_p)\n",
        "  def forward(self,x):\n",
        "    for each in self.hidden_layers:\n",
        "      x = F.relu(each(x))\n",
        "      x = self.dropout(x)\n",
        "    x = self.output(x)\n",
        "    return F.log_softmax(x,dim =1)\n",
        "\n",
        "model = Network(784,10,[512,256,128,10])\n",
        "model"
      ],
      "execution_count": 54,
      "outputs": [
        {
          "output_type": "stream",
          "text": [
            "ModuleList(\n",
            "  (0): Linear(in_features=784, out_features=512, bias=True)\n",
            ")\n",
            "[512, 256, 128] [256, 128, 10]\n"
          ],
          "name": "stdout"
        },
        {
          "output_type": "execute_result",
          "data": {
            "text/plain": [
              "Network(\n",
              "  (hidden_layers): ModuleList(\n",
              "    (0): Linear(in_features=784, out_features=512, bias=True)\n",
              "    (1): Linear(in_features=512, out_features=256, bias=True)\n",
              "    (2): Linear(in_features=256, out_features=128, bias=True)\n",
              "    (3): Linear(in_features=128, out_features=10, bias=True)\n",
              "  )\n",
              "  (output): Linear(in_features=10, out_features=10, bias=True)\n",
              "  (dropout): Dropout(p=0.5, inplace=False)\n",
              ")"
            ]
          },
          "metadata": {
            "tags": []
          },
          "execution_count": 54
        }
      ]
    },
    {
      "cell_type": "code",
      "metadata": {
        "id": "97LJeq0ImsN4",
        "colab_type": "code",
        "colab": {
          "base_uri": "https://localhost:8080/",
          "height": 72
        },
        "outputId": "c503a33c-93f8-44b3-d187-fbe4e5a0382d"
      },
      "source": [
        "layer_sizes = zip([512, 256, 128],[256, 128, 10])\n",
        "for h1,h2 in layer_sizes:\n",
        "  print(h1,h2)"
      ],
      "execution_count": 50,
      "outputs": [
        {
          "output_type": "stream",
          "text": [
            "512 256\n",
            "256 128\n",
            "128 10\n"
          ],
          "name": "stdout"
        }
      ]
    },
    {
      "cell_type": "code",
      "metadata": {
        "id": "32-U8gmtm4JW",
        "colab_type": "code",
        "colab": {
          "base_uri": "https://localhost:8080/",
          "height": 108
        },
        "outputId": "7f95c1bd-c93d-4d4e-ad5b-297cfff777b2"
      },
      "source": [
        "epochs = 5\n",
        "steps = 0\n",
        "train_losses,test_losses = [],[]\n",
        "for e in range(epochs):\n",
        "  running_loss = 0\n",
        "  for images,labels in trainloader:\n",
        "    images.resize_(images.size()[0],784)\n",
        "    optimizer.zero_grad()\n",
        "    log_ps = model(images)\n",
        "    loss = creterion(log_ps,labels)\n",
        "    loss.backward()\n",
        "    optimizer.step()\n",
        "    running_loss = running_loss + loss.item()\n",
        "  else:\n",
        "    test_loss = 0\n",
        "    accuracy = 0\n",
        "    # turning of gradients for validation, saves the memory and computation\n",
        "    with torch.no_grad():\n",
        "      model.eval() # it deactivate the dropout\n",
        "      for images,labels in testloader:\n",
        "        images.resize_(images.size()[0],784)\n",
        "        log_ps = model(images)\n",
        "        test_loss = test_loss + creterion(log_ps,labels)\n",
        "        ps = torch.exp(log_ps)\n",
        "        top_p,top_class = ps.topk(1,dim=1)\n",
        "        equals = top_class==labels.view(*top_class.shape)\n",
        "        accuracy = accuracy + torch.mean(equals.type(torch.FloatTensor))\n",
        "  model.train() # It will start training mode such dropout are activated\n",
        "  train_losses.append(running_loss/len(trainloader))\n",
        "  test_losses.append(test_loss/len(testloader))\n",
        "  print(\"Epoch {}/{}...\".format(e+1,epochs),\n",
        "        \"Training Loss: {:.3f}...\".format(running_loss/len(trainloader)),\n",
        "        \"Test Loss: {:.3f}...\".format(test_loss/len(testloader)),\n",
        "        \"Test Accuracy: {:.3f}...\".format(accuracy/len(testloader)))\n"
      ],
      "execution_count": 58,
      "outputs": [
        {
          "output_type": "stream",
          "text": [
            "Epoch 1/5... Training Loss: 2.321... Test Loss: 2.319... Test Accuracy: 0.096...\n",
            "Epoch 2/5... Training Loss: 2.321... Test Loss: 2.319... Test Accuracy: 0.096...\n",
            "Epoch 3/5... Training Loss: 2.321... Test Loss: 2.319... Test Accuracy: 0.096...\n",
            "Epoch 4/5... Training Loss: 2.321... Test Loss: 2.319... Test Accuracy: 0.096...\n",
            "Epoch 5/5... Training Loss: 2.320... Test Loss: 2.319... Test Accuracy: 0.096...\n"
          ],
          "name": "stdout"
        }
      ]
    },
    {
      "cell_type": "code",
      "metadata": {
        "id": "GP4dUeVjo55L",
        "colab_type": "code",
        "colab": {
          "base_uri": "https://localhost:8080/",
          "height": 199
        },
        "outputId": "3419110e-1d24-4df0-d4b7-695793c7925c"
      },
      "source": [
        "torch.save(model.state_dict(),\"abc.pth\")\n",
        "state_dict = torch.load(\"abc.pth\")\n",
        "model.load_state_dict(state_dict)\n",
        "model"
      ],
      "execution_count": 59,
      "outputs": [
        {
          "output_type": "execute_result",
          "data": {
            "text/plain": [
              "Network(\n",
              "  (hidden_layers): ModuleList(\n",
              "    (0): Linear(in_features=784, out_features=512, bias=True)\n",
              "    (1): Linear(in_features=512, out_features=256, bias=True)\n",
              "    (2): Linear(in_features=256, out_features=128, bias=True)\n",
              "    (3): Linear(in_features=128, out_features=10, bias=True)\n",
              "  )\n",
              "  (output): Linear(in_features=10, out_features=10, bias=True)\n",
              "  (dropout): Dropout(p=0.5, inplace=False)\n",
              ")"
            ]
          },
          "metadata": {
            "tags": []
          },
          "execution_count": 59
        }
      ]
    },
    {
      "cell_type": "code",
      "metadata": {
        "id": "26m6vIGaq1cQ",
        "colab_type": "code",
        "colab": {}
      },
      "source": [
        "#!wget https://s3.amazonaws.com/content.udacity-data.com/nd089/Cat_Dog_data.zip"
      ],
      "execution_count": 105,
      "outputs": []
    }
  ]
}