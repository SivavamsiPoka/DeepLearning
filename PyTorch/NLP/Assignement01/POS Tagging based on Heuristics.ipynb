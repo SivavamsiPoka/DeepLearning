{
 "cells": [
  {
   "cell_type": "markdown",
   "metadata": {
    "id": "mM0Ka5OWjTtn"
   },
   "source": [
    "##Import necessary Libraries"
   ]
  },
  {
   "cell_type": "code",
   "execution_count": 1,
   "metadata": {
    "cellView": "both",
    "id": "HUkH-XafjF18"
   },
   "outputs": [
    {
     "name": "stderr",
     "output_type": "stream",
     "text": [
      "[nltk_data] Downloading package punkt to\n",
      "[nltk_data]     C:\\Users\\Sivavamsi\\AppData\\Roaming\\nltk_data...\n",
      "[nltk_data]   Package punkt is already up-to-date!\n",
      "[nltk_data] Downloading package averaged_perceptron_tagger to\n",
      "[nltk_data]     C:\\Users\\Sivavamsi\\AppData\\Roaming\\nltk_data...\n",
      "[nltk_data]   Package averaged_perceptron_tagger is already up-to-\n",
      "[nltk_data]       date!\n"
     ]
    },
    {
     "data": {
      "text/plain": [
       "True"
      ]
     },
     "execution_count": 1,
     "metadata": {},
     "output_type": "execute_result"
    }
   ],
   "source": [
    "import nltk\n",
    "from nltk.tokenize import word_tokenize\n",
    "from nltk.tag import pos_tag\n",
    "from nltk.chunk import ne_chunk\n",
    "nltk.download('punkt')\n",
    "nltk.download('averaged_perceptron_tagger')"
   ]
  },
  {
   "cell_type": "markdown",
   "metadata": {
    "id": "CnfJWQfEjn89"
   },
   "source": [
    "## A sentence under consideration for Information Extraction (NER)"
   ]
  },
  {
   "cell_type": "code",
   "execution_count": 2,
   "metadata": {
    "id": "1nOjV-QMjlBF"
   },
   "outputs": [],
   "source": [
    "sentence = 'Virat Kohli is an Indian cricketer who currently captains the India national team. A right-handed top-order batsman, Kohli is regarded as one of the best batsmen in the world'"
   ]
  },
  {
   "cell_type": "markdown",
   "metadata": {
    "id": "wwc64Wajjv95"
   },
   "source": [
    "## Apply word tokenization and part-of-speech tagging to the sentence"
   ]
  },
  {
   "cell_type": "code",
   "execution_count": 3,
   "metadata": {
    "id": "rrJPkc2MjtwW"
   },
   "outputs": [],
   "source": [
    "# def preprocess(sent):\n",
    "#     sent =  # TOKENIZE THE SENTENCE\n",
    "#     sent = # GET POS TAG OF THE SENTENCE\n",
    "#     return sent"
   ]
  },
  {
   "cell_type": "code",
   "execution_count": 4,
   "metadata": {},
   "outputs": [],
   "source": [
    "def preprocess(sent):\n",
    "    sent = word_tokenize(sent)\n",
    "    print(sent,\"\\n\")\n",
    "    sent = nltk.pos_tag(sent)\n",
    "    return sent"
   ]
  },
  {
   "cell_type": "code",
   "execution_count": 5,
   "metadata": {
    "id": "xKv51GotjyZU"
   },
   "outputs": [
    {
     "name": "stdout",
     "output_type": "stream",
     "text": [
      "['Virat', 'Kohli', 'is', 'an', 'Indian', 'cricketer', 'who', 'currently', 'captains', 'the', 'India', 'national', 'team', '.', 'A', 'right-handed', 'top-order', 'batsman', ',', 'Kohli', 'is', 'regarded', 'as', 'one', 'of', 'the', 'best', 'batsmen', 'in', 'the', 'world'] \n",
      "\n"
     ]
    },
    {
     "data": {
      "text/plain": [
       "[('Virat', 'NNP'),\n",
       " ('Kohli', 'NNP'),\n",
       " ('is', 'VBZ'),\n",
       " ('an', 'DT'),\n",
       " ('Indian', 'JJ'),\n",
       " ('cricketer', 'NN'),\n",
       " ('who', 'WP'),\n",
       " ('currently', 'RB'),\n",
       " ('captains', 'VBZ'),\n",
       " ('the', 'DT'),\n",
       " ('India', 'NNP'),\n",
       " ('national', 'JJ'),\n",
       " ('team', 'NN'),\n",
       " ('.', '.'),\n",
       " ('A', 'DT'),\n",
       " ('right-handed', 'JJ'),\n",
       " ('top-order', 'NN'),\n",
       " ('batsman', 'NN'),\n",
       " (',', ','),\n",
       " ('Kohli', 'NNP'),\n",
       " ('is', 'VBZ'),\n",
       " ('regarded', 'VBN'),\n",
       " ('as', 'IN'),\n",
       " ('one', 'CD'),\n",
       " ('of', 'IN'),\n",
       " ('the', 'DT'),\n",
       " ('best', 'JJS'),\n",
       " ('batsmen', 'NNS'),\n",
       " ('in', 'IN'),\n",
       " ('the', 'DT'),\n",
       " ('world', 'NN')]"
      ]
     },
     "execution_count": 5,
     "metadata": {},
     "output_type": "execute_result"
    }
   ],
   "source": [
    "sent = preprocess(sentence)\n",
    "sent"
   ]
  },
  {
   "cell_type": "markdown",
   "metadata": {
    "id": "5ZfnCIBOlP32"
   },
   "source": [
    "## Plot a Parse Tree"
   ]
  },
  {
   "cell_type": "code",
   "execution_count": 6,
   "metadata": {
    "id": "3SFMBOJhj0kD"
   },
   "outputs": [],
   "source": [
    "# pattern = 'NP: {<DT>?<JJ>*<NN>}'\n",
    "# NPChunker =  # Regex Parse using the pattern\n",
    "# result = NPChunker.parse(sent)\n",
    "# result.draw()"
   ]
  },
  {
   "cell_type": "markdown",
   "metadata": {},
   "source": [
    "# SOLUTION"
   ]
  },
  {
   "cell_type": "code",
   "execution_count": 11,
   "metadata": {},
   "outputs": [],
   "source": [
    "pattern = 'NP: {<DT>?<JJ>*<NN>}'\n",
    "NPChunker = nltk.RegexpParser(pattern) # Regex Parse using the pattern\n",
    "result = NPChunker.parse(sent)\n",
    "result.draw()"
   ]
  },
  {
   "cell_type": "code",
   "execution_count": 13,
   "metadata": {},
   "outputs": [
    {
     "name": "stdout",
     "output_type": "stream",
     "text": [
      "(S\n",
      "  Virat/NNP\n",
      "  Kohli/NNP\n",
      "  is/VBZ\n",
      "  (NP an/DT Indian/JJ cricketer/NN)\n",
      "  who/WP\n",
      "  currently/RB\n",
      "  captains/VBZ\n",
      "  the/DT\n",
      "  India/NNP\n",
      "  (NP national/JJ team/NN)\n",
      "  ./.\n",
      "  (NP A/DT right-handed/JJ top-order/NN)\n",
      "  (NP batsman/NN)\n",
      "  ,/,\n",
      "  Kohli/NNP\n",
      "  is/VBZ\n",
      "  regarded/VBN\n",
      "  as/IN\n",
      "  one/CD\n",
      "  of/IN\n",
      "  the/DT\n",
      "  best/JJS\n",
      "  batsmen/NNS\n",
      "  in/IN\n",
      "  (NP the/DT world/NN))\n"
     ]
    }
   ],
   "source": [
    "print(result)"
   ]
  },
  {
   "cell_type": "markdown",
   "metadata": {
    "id": "mzfWmM0s3qLQ"
   },
   "source": [
    "## POS Tags"
   ]
  },
  {
   "cell_type": "code",
   "execution_count": 14,
   "metadata": {},
   "outputs": [
    {
     "data": {
      "text/plain": [
       "[('Virat', 'NNP'),\n",
       " ('Kohli', 'NNP'),\n",
       " ('is', 'VBZ'),\n",
       " ('an', 'DT'),\n",
       " ('Indian', 'JJ'),\n",
       " ('cricketer', 'NN'),\n",
       " ('who', 'WP'),\n",
       " ('currently', 'RB'),\n",
       " ('captains', 'VBZ'),\n",
       " ('the', 'DT'),\n",
       " ('India', 'NNP'),\n",
       " ('national', 'JJ'),\n",
       " ('team', 'NN'),\n",
       " ('.', '.'),\n",
       " ('A', 'DT'),\n",
       " ('right-handed', 'JJ'),\n",
       " ('top-order', 'NN'),\n",
       " ('batsman', 'NN'),\n",
       " (',', ','),\n",
       " ('Kohli', 'NNP'),\n",
       " ('is', 'VBZ'),\n",
       " ('regarded', 'VBN'),\n",
       " ('as', 'IN'),\n",
       " ('one', 'CD'),\n",
       " ('of', 'IN'),\n",
       " ('the', 'DT'),\n",
       " ('best', 'JJS'),\n",
       " ('batsmen', 'NNS'),\n",
       " ('in', 'IN'),\n",
       " ('the', 'DT'),\n",
       " ('world', 'NN')]"
      ]
     },
     "execution_count": 14,
     "metadata": {},
     "output_type": "execute_result"
    }
   ],
   "source": [
    "sent"
   ]
  },
  {
   "cell_type": "code",
   "execution_count": 15,
   "metadata": {
    "id": "6lUv0-IX0V-v"
   },
   "outputs": [
    {
     "name": "stdout",
     "output_type": "stream",
     "text": [
      "[('Virat', 'NNP', 'O'),\n",
      " ('Kohli', 'NNP', 'O'),\n",
      " ('is', 'VBZ', 'O'),\n",
      " ('an', 'DT', 'O'),\n",
      " ('Indian', 'JJ', 'O'),\n",
      " ('cricketer', 'NN', 'O'),\n",
      " ('who', 'WP', 'O'),\n",
      " ('currently', 'RB', 'O'),\n",
      " ('captains', 'VBZ', 'O'),\n",
      " ('the', 'DT', 'O'),\n",
      " ('India', 'NNP', 'O'),\n",
      " ('national', 'JJ', 'O'),\n",
      " ('team', 'NN', 'O'),\n",
      " ('.', '.', 'O'),\n",
      " ('A', 'DT', 'O'),\n",
      " ('right-handed', 'JJ', 'O'),\n",
      " ('top-order', 'NN', 'O'),\n",
      " ('batsman', 'NN', 'O'),\n",
      " (',', ',', 'O'),\n",
      " ('Kohli', 'NNP', 'O'),\n",
      " ('is', 'VBZ', 'O'),\n",
      " ('regarded', 'VBN', 'O'),\n",
      " ('as', 'IN', 'O'),\n",
      " ('one', 'CD', 'O'),\n",
      " ('of', 'IN', 'O'),\n",
      " ('the', 'DT', 'O'),\n",
      " ('best', 'JJS', 'O'),\n",
      " ('batsmen', 'NNS', 'O'),\n",
      " ('in', 'IN', 'O'),\n",
      " ('the', 'DT', 'O'),\n",
      " ('world', 'NN', 'O')]\n"
     ]
    }
   ],
   "source": [
    "from nltk.chunk import conlltags2tree, tree2conlltags\n",
    "from pprint import pprint\n",
    "iob_tagged = tree2conlltags(sent)\n",
    "pprint(iob_tagged)"
   ]
  },
  {
   "cell_type": "markdown",
   "metadata": {
    "id": "GsWTk0dX4DN8"
   },
   "source": [
    "**This is how Information is extracted using heuristics based techniques. Try using another pattern.**"
   ]
  },
  {
   "cell_type": "code",
   "execution_count": null,
   "metadata": {
    "id": "hGPurTlb3tWd"
   },
   "outputs": [],
   "source": []
  }
 ],
 "metadata": {
  "colab": {
   "authorship_tag": "ABX9TyNEzjYV9cbHTds4eCmnTVo1",
   "collapsed_sections": [],
   "name": "POS Tagging based on Heuristics.ipynb",
   "provenance": []
  },
  "kernelspec": {
   "display_name": "Python 3",
   "language": "python",
   "name": "python3"
  },
  "language_info": {
   "codemirror_mode": {
    "name": "ipython",
    "version": 3
   },
   "file_extension": ".py",
   "mimetype": "text/x-python",
   "name": "python",
   "nbconvert_exporter": "python",
   "pygments_lexer": "ipython3",
   "version": "3.6.8"
  }
 },
 "nbformat": 4,
 "nbformat_minor": 1
}
